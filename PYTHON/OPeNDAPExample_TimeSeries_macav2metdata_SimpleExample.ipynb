{
 "cells": [
  {
   "cell_type": "code",
   "execution_count": 2,
   "metadata": {
    "collapsed": false
   },
   "outputs": [],
   "source": [
    "#This script was run using Python 2.7.13, Jupyter Notebook\n",
    "#Author: Katherine Hegewisch (khegewisch@uidaho.edu) \n",
    "#Updated: 03/13/2017\n",
    "#=========================================================\n",
    "#            MACAV2METDATA FILE PARAMETERS\n",
    "#=========================================================\n",
    "dirPath='http://thredds.northwestknowledge.net:8080/thredds/dodsC/' \n",
    " \n",
    "#=========================================================\n",
    "#            MACA TARGET DATA\n",
    "#=========================================================\n",
    "lat_target=45.0\n",
    "lon_target=360-117.0"
   ]
  },
  {
   "cell_type": "code",
   "execution_count": null,
   "metadata": {
    "collapsed": false
   },
   "outputs": [
    {
     "name": "stdout",
     "output_type": "stream",
     "text": [
      "http://thredds.northwestknowledge.net:8080/thredds/dodsC/agg_macav2metdata_tasmax_BNU-ESM_r1i1p1_historical_1950_2005_CONUS_daily.nc\n",
      "<type 'netCDF4._netCDF4.Variable'>\n",
      "float32 air_temperature(time, lat, lon)\n",
      "    _FillValue: -9999.0\n",
      "    long_name: Daily Maximum Near-Surface Air Temperature\n",
      "    units: K\n",
      "    grid_mapping: crs\n",
      "    standard_name: air_temperature\n",
      "    height: 2 m\n",
      "    cell_methods: time: maximum(interval: 24 hours)\n",
      "    coordinates: time lon lat\n",
      "    _ChunkSizes: [162  51 123]\n",
      "unlimited dimensions: \n",
      "current shape = (20454, 585, 1386)\n",
      "filling off\n",
      "\n"
     ]
    }
   ],
   "source": [
    "from netCDF4 import Dataset\n",
    "#--------------------------------------------------------\n",
    "#  FILENAME\n",
    "#--------------------------------------------------------\n",
    "fileName='agg_macav2metdata_tasmax_BNU-ESM_r1i1p1_historical_1950_2005_CONUS_daily.nc'\n",
    "#--------------------------------------------------------\n",
    "#   FORM FILENAME AND GET HANDLE TO FILE AND DATA\n",
    "#--------------------------------------------------------\n",
    "fullfilename= dirPath+fileName\n",
    "print fullfilename\n",
    "#=========================================================\n",
    "#             GET DATA HANDLES\n",
    "#=========================================================\n",
    "filehandle=Dataset(fullfilename,'r',format=\"NETCDF4\")\n",
    "lathandle=filehandle.variables['lat']\n",
    "lonhandle=filehandle.variables['lon']\n",
    "timehandle=filehandle.variables['time']\n",
    "datahandle=filehandle.variables['air_temperature']\n",
    "print datahandle"
   ]
  },
  {
   "cell_type": "code",
   "execution_count": null,
   "metadata": {
    "collapsed": false
   },
   "outputs": [],
   "source": [
    "from netCDF4 import Dataset\n",
    "import numpy as np\n",
    "import matplotlib.pyplot as plt\n",
    "#=========================================================\n",
    "#             GET DATA \n",
    "#=========================================================\n",
    "#get data\n",
    "#time_num=len(timehandle)\n",
    "time_num=365\n",
    "timeindex=range(0,time_num,1)  #python starts arrays at 0\n",
    "time=timehandle[timeindex]\n",
    "lat = lathandle[:]\n",
    "lon = lonhandle[:]\n",
    "#=========================================================\n",
    "#find indices of target lat/lon/day\n",
    "lat_index =   (np.abs(lat-lat_array)).argmin() \n",
    "lon_index =   (np.abs(lon-lon_array)).argmin()\n",
    "#check final is in right bounds\n",
    "if(lat[lat_index]>lat_target):\n",
    "\tif(lat_index!=0):\n",
    "\t\tlat_index = lat_index - 1\n",
    "if(lat[lat_index]<lat_target):\n",
    "\tif(lat_index!=len(lat)):\n",
    "\t\tlat_index =lat_index +1\n",
    "if(lon[lon_index]>lon_target):\n",
    "\tif(lon_index!=0):\n",
    "\t\tlon_index = lon_index - 1\n",
    "if(lon[lon_index]<lon_target):\n",
    "\tif(lon_index!=len(lon)):\n",
    "\t\tlon_index = lon_index + 1\n",
    "lat=lat[lat_index]\n",
    "lon=lon[lon_index]\n",
    "#=========================================================\n",
    "#get data\n",
    "data = datahandle[timeindex,lat_index,lon_index]\n"
   ]
  },
  {
   "cell_type": "code",
   "execution_count": null,
   "metadata": {
    "collapsed": false
   },
   "outputs": [],
   "source": [
    "print data"
   ]
  },
  {
   "cell_type": "code",
   "execution_count": null,
   "metadata": {
    "collapsed": false
   },
   "outputs": [],
   "source": [
    "#=========================================================\n",
    "#              MAKE A PLOT\n",
    "#=========================================================\n",
    "#yearref=1950\n",
    "#years = np.arange(yearref,yearref+len(time))\n",
    "days =np.arange(0,len(time))\n",
    "fig = plt.figure()\n",
    "ax = fig.add_subplot(111)\n",
    "ax.set_xlabel(u'Day of Year')\n",
    "ax.set_ylabel(u'Max Temperature (K)')\n",
    "ax.set_title(u'1950 Max Daily Temperatures (BNU-ESM),\\n %4.2f\\u00b0N, %4.2f\\u00b0W' % (lat, abs(360-lon)))\n",
    "#ax.plot_date(x=time,y=data,fmt=\"b-\")\n",
    "ax.ticklabel_format(style='plain')\n",
    "ax.plot(days,data,'b-')\n",
    "plt.savefig(\"myPythonGraph.png\")\n",
    "plt.show()"
   ]
  }
 ],
 "metadata": {
  "kernelspec": {
   "display_name": "Python 2",
   "language": "python",
   "name": "python2"
  },
  "language_info": {
   "codemirror_mode": {
    "name": "ipython",
    "version": 2
   },
   "file_extension": ".py",
   "mimetype": "text/x-python",
   "name": "python",
   "nbconvert_exporter": "python",
   "pygments_lexer": "ipython2",
   "version": "2.7.12"
  }
 },
 "nbformat": 4,
 "nbformat_minor": 0
}
