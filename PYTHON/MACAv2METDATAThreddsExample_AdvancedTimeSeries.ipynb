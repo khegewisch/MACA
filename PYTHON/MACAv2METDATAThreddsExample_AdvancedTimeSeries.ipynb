{
 "cells": [
  {
   "cell_type": "code",
   "execution_count": 19,
   "metadata": {
    "collapsed": false
   },
   "outputs": [],
   "source": [
    "#This script was run using Python 2.7.13, Juypter Notebook from Anaconda Installation\n",
    "#Author: Katherine Hegewisch (khegewisch@uidaho.edu) \n",
    "#Updated: 03/13/17\n",
    "#=========================================================\n",
    "#            MACAV2METDATA FILE PARAMETERS\n",
    "#=========================================================\n",
    "dirPath='http://thredds.northwestknowledge.net:8080/thredds/dodsC/'  \n",
    "VARNAME =('tasmax','tasmin','rhsmax','rhsmin','pr','rsds','uas','vas','was','huss')\n",
    "VARLONGNAME=('air_temperature','air_temperature', 'relative_humidity','relative_humidity',\\\n",
    "                'precipitation','surface_downwelling_shortwave_flux_in_air',\\\n",
    "                'eastward_wind','northward_wind','specific_humidity')\n",
    "MODELNAME=('bcc-csm1-1','bcc-csm1-1-m','BNU-ESM','CanESM2','CCSM4','CNRM-CM5','CSIRO-Mk3-6-0',\\\n",
    "            'GFDL-ESM2G','GFDL-ESM2M','HadGEM2-CC365','HadGEM2-ES365',\\\n",
    "                'inmcm4','IPSL-CM5A-MR','IPSL-CM5A-LR','IPSL-CM5B-LR',\\\n",
    "                'MIROC5','MIROC-ESM','MIROC-ESM-CHEM','MRI-CGCM3','NorESM1-M')\n",
    "SCENNAME =('historical','rcp45','rcp85') \n",
    "YEAR_START=('1950','2006','2006')\n",
    "YEAR_END =('2005','2099','2099')\n",
    "#RUN_NUM=('1','1','1','1','6','1','1','1','1','1','1','1')\n",
    "RUN_NUM=[1] * 20\n",
    "RUN_NUM[5] = 6 #setting CCSM4 with run 6\n",
    "DOMAIN='CONUS'\n",
    "#========================================================="
   ]
  },
  {
   "cell_type": "code",
   "execution_count": 17,
   "metadata": {
    "collapsed": false
   },
   "outputs": [
    {
     "name": "stdout",
     "output_type": "stream",
     "text": [
      "http://thredds.northwestknowledge.net:8080/thredds/dodsC/agg_macav2metdata_tasmin_bcc-csm1-1-m_r1i1p1_historical_1950_2005_CONUS_daily.nc\n"
     ]
    }
   ],
   "source": [
    "from netCDF4 import Dataset\n",
    "#--------------------------------------------------------\n",
    "#   MODEL/VAR/SCEN CHOICES\n",
    "#--------------------------------------------------------\n",
    "model=1\n",
    "var=1\n",
    "scen=0\n",
    "#--------------------------------------------------------\n",
    "#   FORM FILENAME AND GET HANDLE TO FILE AND DATA\n",
    "#--------------------------------------------------------\n",
    "Time=YEAR_START[scen]+'_'+YEAR_END[scen]\n",
    "fileName = ('agg_macav2metdata_'+str(VARNAME[var])+'_'+str(MODELNAME[model])+'_r'+str(RUN_NUM[model])+'i1p1_'+str(SCENNAME[scen])+'_'+Time+'_'+DOMAIN+'_daily.nc')  \n",
    "fullfilename= dirPath+fileName\n",
    "print fullfilename\n",
    "filehandle=Dataset(fullfilename,'r')\n",
    "lat=filehandle.variables['lat']\n",
    "lon=filehandle.variables['lon']"
   ]
  },
  {
   "cell_type": "code",
   "execution_count": 18,
   "metadata": {
    "collapsed": false
   },
   "outputs": [
    {
     "name": "stdout",
     "output_type": "stream",
     "text": [
      "46.7294006348\n",
      "-117.022277832\n"
     ]
    }
   ],
   "source": [
    "from netCDF4 import Dataset\n",
    "import numpy as np\n",
    "#--------------------------------------------------------\n",
    "#   LAT/LON CHOICES\n",
    "#--------------------------------------------------------\n",
    "#Moscow, ID\n",
    "lat_targ = 46.7317     \n",
    "lon_targ=360-116.9972 #should be in [0 360 ]E\n",
    "#--------------------------------------------------------\n",
    "#   LAT/LON DATA\n",
    "#--------------------------------------------------------\n",
    "lathandle=filehandle.variables['lat']\n",
    "lonhandle=filehandle.variables['lon']\n",
    "lat = lathandle[:]\n",
    "lon = lonhandle[:]\n",
    "#--------------------------------------------------------\n",
    "#  GET LAT/LON NEAREST SELECTED LAT/LON\n",
    "#--------------------------------------------------------\n",
    "lat_index =  np.searchsorted(lat,lat_targ,side='right') \n",
    "lon_index =  np.searchsorted(lon,lon_targ,side='right') \n",
    "\n",
    "if(lat[lat_index]>lat_targ):\n",
    "    if(lat_index!=0):\n",
    "        lat_index = lat_index - 1\n",
    "if(lon[lon_index]>lon_targ):\n",
    "    if(lon_index!=0):\n",
    "        lon_index = lon_index - 1 \n",
    "#print lat_targ\n",
    "print lat[lat_index] \n",
    "#print lon_targ\n",
    "print lon[lon_index] -360"
   ]
  },
  {
   "cell_type": "code",
   "execution_count": 14,
   "metadata": {
    "collapsed": false
   },
   "outputs": [],
   "source": [
    "from netCDF4 import Dataset\n",
    "var=0  #tasmax\n",
    "model=0 #bcc-csm-1-1\n",
    "\n",
    "#this is how you can loop over the MODELNAMEs\n",
    "#for model,val in enumerate(MODELNAME):\n",
    "#--------------------------------------------------------\n",
    "#   GET HISTORIC DATA\n",
    "#--------------------------------------------------------\n",
    "scen=0\n",
    "Time=YEAR_START[scen]+'_'+YEAR_END[scen]\n",
    "fileName = ('agg_macav2metdata_'+str(VARNAME[var])+'_'+str(MODELNAME[model])+'_r'+str(RUN_NUM[model])+'i1p1_'+str(SCENNAME[scen])+'_'+Time+'_'+DOMAIN+'_daily.nc')   \n",
    "fullfilename= dirPath+fileName \n",
    "filehandle=Dataset(fullfilename,'r')\n",
    "datahandle=filehandle.variables[VARLONGNAME[var]]\n",
    "histdata = datahandle[:,lat_index,lon_index]\n",
    "#--------------------------------------------------------\n",
    "#   GET FUTURE DATA\n",
    "#--------------------------------------------------------  \n",
    "scen=1\n",
    "Time=YEAR_START[scen]+'_'+YEAR_END[scen]\n",
    "fileName = ('agg_macav2metdata_'+str(VARNAME[var])+'_'+str(MODELNAME[model])+'_r'+str(RUN_NUM[model])+'i1p1_'+str(SCENNAME[scen])+'_'+Time+'_'+DOMAIN+'_daily.nc')   \n",
    "fullfilename= dirPath+fileName \n",
    "filehandle=Dataset(fullfilename,'r')\n",
    "datahandle=filehandle.variables[VARLONGNAME[var]]\n",
    "futdata = datahandle[:,lat_index,lon_index] "
   ]
  }
 ],
 "metadata": {
  "kernelspec": {
   "display_name": "Python 2",
   "language": "python",
   "name": "python2"
  },
  "language_info": {
   "codemirror_mode": {
    "name": "ipython",
    "version": 2
   },
   "file_extension": ".py",
   "mimetype": "text/x-python",
   "name": "python",
   "nbconvert_exporter": "python",
   "pygments_lexer": "ipython2",
   "version": "2.7.12"
  }
 },
 "nbformat": 4,
 "nbformat_minor": 0
}
