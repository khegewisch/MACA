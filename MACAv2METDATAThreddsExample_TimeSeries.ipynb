{
 "metadata": {
  "name": "MACAv2METDATAThreddsExample_TimeSeries"
 },
 "nbformat": 3,
 "nbformat_minor": 0,
 "worksheets": [
  {
   "cells": [
    {
     "cell_type": "code",
     "collapsed": false,
     "input": "#This script was run using Python 2.7.3, the Enthought distribution (www.enthought.com)\n#Author: Katherine Hegewisch (khegewisch@uidaho.edu) \n#=========================================================\n#            MACAV2METDATA FILE PARAMETERS\n#=========================================================\ndirPath='http://reacchpna.org/thredds/dodsC/'  \nVARNAME =('tasmax','tasmin','rhsmax','rhsmin','pr','rsds','uas','vas','was','huss')\nVARLONGNAME=('air_temperature','air_temperature', 'relative_humidity','relative_humidity',\\\n                'precipitation_flux','surface_downwelling_shortwave_flux_in_air',\\\n                'eastward_wind','northward_wind','specific_humidity')\nMODELNAME=('bcc-csm1-1','bcc-csm1-1-m','BNU-ESM','CanESM2','CCSM4','CNRM-CM5','CSIRO-Mk3-6-0',\\\n            'GFDL-ESM2G','GFDL-ESM2M','HadGEM2-CC365','HadGEM2-ES365',\\\n                'inmcm4','IPSL-CM5A-MR','IPSL-CM5A-LR','IPSL-CM5B-LR',\\\n                'MIROC5','MIROC-ESM','MIROC-ESM-CHEM','MRI-CGCM3','NorESM1-M')\nSCENNAME =('historical','rcp45','rcp85') \nYEAR_START=('1950','2006','2006')\nYEAR_END =('2005','2100','2100')\n#=========================================================",
     "language": "python",
     "metadata": {},
     "outputs": [],
     "prompt_number": 1
    },
    {
     "cell_type": "code",
     "collapsed": false,
     "input": "from netCDF4 import Dataset\n#--------------------------------------------------------\n#   MODEL/VAR/SCEN CHOICES\n#--------------------------------------------------------\nmodel=1\nvar=1\nscen=0\n#--------------------------------------------------------\n#   FORM FILENAME AND GET HANDLE TO FILE AND DATA\n#--------------------------------------------------------\nTime=YEAR_START[scen]+'_'+YEAR_END[scen]\nfileName = ('agg_maca_'+str(VARNAME[var])+'_'+str(MODELNAME[model])+'_'+str(SCENNAME[scen])+'_'+Time+'_WUSA.nc')  \nfullfilename= dirPath+fileName\nprint fullfilename\nfilehandle=Dataset(fullfilename,'r')\nlat=filehandle.variables['lat']\nlon=filehandle.variables['lon']\n\n#for v in datahandle.variables: \n#    print(v)",
     "language": "python",
     "metadata": {},
     "outputs": [
      {
       "output_type": "stream",
       "stream": "stdout",
       "text": "http://reacchpna.org/thredds/dodsC/agg_maca_tasmin_bcc-csm1-1-m_historical_1950_2005_WUSA.nc\n"
      }
     ],
     "prompt_number": 2
    },
    {
     "cell_type": "code",
     "collapsed": false,
     "input": "from netCDF4 import Dataset\nimport numpy as np\n#--------------------------------------------------------\n#   LAT/LON CHOICES\n#--------------------------------------------------------\n#Moscow, ID\nlat_targ = 46.7317     \nlon_targ=360-116.9972 #should be in [0 360 ]E\n#--------------------------------------------------------\n#   LAT/LON DATA\n#--------------------------------------------------------\nlathandle=filehandle.variables['lat']\nlonhandle=filehandle.variables['lon']\nlat = lathandle[:]\nlon = lonhandle[:]\n#--------------------------------------------------------\n#  GET LAT/LON NEAREST SELECTED LAT/LON\n#--------------------------------------------------------\nlat_index =  np.searchsorted(lat,lat_targ,side='right') \nlon_index =  np.searchsorted(lon,lon_targ,side='right') \n\nif(lat[lat_index]>lat_targ):\n    if(lat_index!=0):\n        lat_index = lat_index - 1\nif(lon[lon_index]>lon_targ):\n    if(lon_index!=0):\n        lon_index = lon_index - 1 \n#print lat_targ\n#print lat[lat_index] \n#print lon_targ\n#print lon[lon_index] ",
     "language": "python",
     "metadata": {},
     "outputs": [],
     "prompt_number": 3
    },
    {
     "cell_type": "code",
     "collapsed": false,
     "input": "from netCDF4 import Dataset\nvar=0  #tasmax\nmodel=0 #bcc-csm-1-1\n#for model,val in enumerate(MODELNAME):\n#--------------------------------------------------------\n#   GET HISTORIC DATA\n#--------------------------------------------------------\nscen=0\nTime=YEAR_START[scen]+'_'+YEAR_END[scen]\nfileName = ('agg_maca_'+str(VARNAME[var])+'_'+str(MODELNAME[model])+'_'+str(SCENNAME[scen])+'_'+Time+'_WUSA.nc')  \nfullfilename= dirPath+fileName \nfilehandle=Dataset(fullfilename,'r')\ndatahandle=filehandle.variables[VARLONGNAME[var]]\nhistdata = datahandle[:,lat_index,lon_index]\n#--------------------------------------------------------\n#   GET FUTURE DATA\n#--------------------------------------------------------  \nscen=1\nTime=YEAR_START[scen]+'_'+YEAR_END[scen]\nfileName = ('agg_maca_'+str(VARNAME[var])+'_'+str(MODELNAME[model])+'_'+str(SCENNAME[scen])+'_'+Time+'_WUSA.nc') \nfullfilename= dirPath+fileName \nfilehandle=Dataset(fullfilename,'r')\ndatahandle=filehandle.variables[VARLONGNAME[var]]\nfutdata = datahandle[:,lat_index,lon_index] ",
     "language": "python",
     "metadata": {},
     "outputs": [],
     "prompt_number": 4
    },
    {
     "cell_type": "code",
     "collapsed": false,
     "input": "fullfilename\n",
     "language": "python",
     "metadata": {},
     "outputs": [
      {
       "output_type": "pyout",
       "prompt_number": 5,
       "text": "'http://reacchpna.org/thredds/dodsC/agg_maca_tasmax_bcc-csm1-1_rcp45_2006_2100_WUSA.nc'"
      }
     ],
     "prompt_number": 5
    },
    {
     "cell_type": "code",
     "collapsed": false,
     "input": "import matplotlib.pyplot as plt\n#=========================================================\n#              MAKE A PLOT\n#=========================================================\nyearref=1950\nyears = np.arange(yearref,yearref+len(Time))\nfig = plt.figure()\nax = fig.add_subplot(111)\nax.set_xlabel(u'Year')\nax.set_ylabel(u'Specific Humidity')\nax.set_title(u'Specific Humidity on Day %d ,\\n %4.2f\\u00b0N, %4.2f\\u00b0W' % (lat, abs(360-lon)))\n#ax.plot_date(x=time,y=data,fmt=\"b-\")\nax.ticklabel_format(style='plain')\nax.plot(years,data,'b-')\nplt.savefig(\"myPythonGraph.png\")\nplt.show()",
     "language": "python",
     "metadata": {},
     "outputs": []
    }
   ],
   "metadata": {}
  }
 ]
}